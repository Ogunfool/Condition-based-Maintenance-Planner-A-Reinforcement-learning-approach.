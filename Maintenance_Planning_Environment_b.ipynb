{
  "nbformat": 4,
  "nbformat_minor": 0,
  "metadata": {
    "colab": {
      "provenance": [],
      "authorship_tag": "ABX9TyPFj9J7Ga9pZ7X7jdHGMFtX",
      "include_colab_link": true
    },
    "kernelspec": {
      "name": "python3",
      "display_name": "Python 3"
    },
    "language_info": {
      "name": "python"
    },
    "gpuClass": "standard"
  },
  "cells": [
    {
      "cell_type": "markdown",
      "metadata": {
        "id": "view-in-github",
        "colab_type": "text"
      },
      "source": [
        "<a href=\"https://colab.research.google.com/github/Ogunfool/Maintenance-Planning-with-reinforcement-learning/blob/main/Maintenance_Planning_Environment_b.ipynb\" target=\"_parent\"><img src=\"https://colab.research.google.com/assets/colab-badge.svg\" alt=\"Open In Colab\"/></a>"
      ]
    },
    {
      "cell_type": "markdown",
      "source": [
        "Survival Analysis"
      ],
      "metadata": {
        "id": "Lszxp-cMDSCB"
      }
    },
    {
      "cell_type": "code",
      "execution_count": 1,
      "metadata": {
        "id": "a0dcicTG9lwo"
      },
      "outputs": [],
      "source": [
        "import numpy as np\n",
        "import pandas as pd\n",
        "import matplotlib.pyplot as plt"
      ]
    },
    {
      "cell_type": "code",
      "source": [
        "! pip install reliability\n",
        "! pip install lifelines"
      ],
      "metadata": {
        "id": "Lrv17JPR-I39"
      },
      "execution_count": null,
      "outputs": []
    },
    {
      "cell_type": "code",
      "source": [
        "from lifelines import KaplanMeierFitter,WeibullFitter\n",
        "from numpy.random import Generator as gen\n",
        "from numpy.random import PCG64 as pcg"
      ],
      "metadata": {
        "id": "dGehBRHbG07t"
      },
      "execution_count": 3,
      "outputs": []
    },
    {
      "cell_type": "code",
      "source": [
        "# Data Generation\n",
        "from reliability.Datasets import system_growth\n",
        "failure_times = system_growth().failures\n",
        "censorship = np.ones_like(failure_times)"
      ],
      "metadata": {
        "id": "hHcQL-87q7a6"
      },
      "execution_count": 4,
      "outputs": []
    },
    {
      "cell_type": "code",
      "source": [
        "data = np.array([failure_times,censorship])\n",
        "data = data.transpose()\n",
        "data.shape"
      ],
      "metadata": {
        "colab": {
          "base_uri": "https://localhost:8080/"
        },
        "id": "xd975UjmrwRg",
        "outputId": "55d4f32e-3845-4e61-d0df-bfb5667008cc"
      },
      "execution_count": 5,
      "outputs": [
        {
          "output_type": "execute_result",
          "data": {
            "text/plain": [
              "(22, 2)"
            ]
          },
          "metadata": {},
          "execution_count": 5
        }
      ]
    },
    {
      "cell_type": "code",
      "source": [
        "failure_times_a = np.array(failure_times)\n",
        "failure_times_a.shape"
      ],
      "metadata": {
        "colab": {
          "base_uri": "https://localhost:8080/"
        },
        "id": "sfBG4AN-Ecm9",
        "outputId": "17fedf6f-e380-4427-85c6-15da984ecedd"
      },
      "execution_count": 6,
      "outputs": [
        {
          "output_type": "execute_result",
          "data": {
            "text/plain": [
              "(22,)"
            ]
          },
          "metadata": {},
          "execution_count": 6
        }
      ]
    },
    {
      "cell_type": "code",
      "source": [
        "np.mean(failure_times_a)"
      ],
      "metadata": {
        "colab": {
          "base_uri": "https://localhost:8080/"
        },
        "id": "R1la05vnU_so",
        "outputId": "67f63df4-4594-44f8-b3be-b3d71bb94030"
      },
      "execution_count": 7,
      "outputs": [
        {
          "output_type": "execute_result",
          "data": {
            "text/plain": [
              "220.33181818181814"
            ]
          },
          "metadata": {},
          "execution_count": 7
        }
      ]
    },
    {
      "cell_type": "code",
      "source": [
        "np.std(failure_times_a)"
      ],
      "metadata": {
        "colab": {
          "base_uri": "https://localhost:8080/"
        },
        "id": "mLQ7CojUVKo1",
        "outputId": "1a5fcbf3-678e-4a55-9438-2f08258205a8"
      },
      "execution_count": 8,
      "outputs": [
        {
          "output_type": "execute_result",
          "data": {
            "text/plain": [
              "176.7256049420931"
            ]
          },
          "metadata": {},
          "execution_count": 8
        }
      ]
    },
    {
      "cell_type": "code",
      "source": [
        "# Generate Data for 2 other machines\n",
        "array_rg = gen(pcg(365))\n",
        "failure_times_b = array_rg.normal((np.mean(failure_times_a)), (np.std(failure_times_a)), size = (failure_times_a.shape))\n",
        "failure_times_b = np.where(failure_times_b < 0, -failure_times_b, failure_times_b)\n",
        "sum(failure_times_b < 0)"
      ],
      "metadata": {
        "colab": {
          "base_uri": "https://localhost:8080/"
        },
        "id": "Hhngbmp4ElKf",
        "outputId": "c55189c7-12dc-4816-ab77-620c34254999"
      },
      "execution_count": 9,
      "outputs": [
        {
          "output_type": "execute_result",
          "data": {
            "text/plain": [
              "0"
            ]
          },
          "metadata": {},
          "execution_count": 9
        }
      ]
    },
    {
      "cell_type": "code",
      "source": [
        "failure_times_b.shape"
      ],
      "metadata": {
        "colab": {
          "base_uri": "https://localhost:8080/"
        },
        "id": "RBgPpnZ9FR81",
        "outputId": "2ed30a4f-cb13-4242-94a9-365067dfb9cd"
      },
      "execution_count": 10,
      "outputs": [
        {
          "output_type": "execute_result",
          "data": {
            "text/plain": [
              "(22,)"
            ]
          },
          "metadata": {},
          "execution_count": 10
        }
      ]
    },
    {
      "cell_type": "code",
      "source": [
        "# Data for machine 3\n",
        "array_rg = gen(pcg(365))\n",
        "failure_times_c = array_rg.normal((np.mean(failure_times_a)/2.17), 100, size = (failure_times_a.shape))\n",
        "failure_times_c = np.where(failure_times_c < 0, -failure_times_c, failure_times_c)\n",
        "sum(failure_times_c < 0)"
      ],
      "metadata": {
        "colab": {
          "base_uri": "https://localhost:8080/"
        },
        "id": "hBWENNwKFVM_",
        "outputId": "16eb285c-04a2-4e2d-a201-9b2d66d0a662"
      },
      "execution_count": 11,
      "outputs": [
        {
          "output_type": "execute_result",
          "data": {
            "text/plain": [
              "0"
            ]
          },
          "metadata": {},
          "execution_count": 11
        }
      ]
    },
    {
      "cell_type": "code",
      "source": [
        "failure_times_c.shape"
      ],
      "metadata": {
        "colab": {
          "base_uri": "https://localhost:8080/"
        },
        "id": "_XyrbaDoFHyL",
        "outputId": "1538361f-7f63-40de-e0c6-a74e66dc679c"
      },
      "execution_count": 12,
      "outputs": [
        {
          "output_type": "execute_result",
          "data": {
            "text/plain": [
              "(22,)"
            ]
          },
          "metadata": {},
          "execution_count": 12
        }
      ]
    },
    {
      "cell_type": "code",
      "source": [
        "# Instantiate weibullfitter objects for all 3 machines\n",
        "failures_a_wb = WeibullFitter()\n",
        "failures_b_wb = WeibullFitter()\n",
        "failures_c_wb = WeibullFitter()"
      ],
      "metadata": {
        "id": "48XLKD5lGAlF"
      },
      "execution_count": 13,
      "outputs": []
    },
    {
      "cell_type": "code",
      "source": [
        "# Fit all\n",
        "failures_a_wb.fit(durations=failure_times_a, label='component_1')\n",
        "failures_b_wb.fit(durations=failure_times_b, label='component_2')\n",
        "failures_c_wb.fit(durations=failure_times_c, label='component_3')"
      ],
      "metadata": {
        "colab": {
          "base_uri": "https://localhost:8080/"
        },
        "id": "Q57_0OgJGfcz",
        "outputId": "00f745e2-7f83-4a8a-803c-9ef491e88522"
      },
      "execution_count": 14,
      "outputs": [
        {
          "output_type": "execute_result",
          "data": {
            "text/plain": [
              "<lifelines.WeibullFitter:\"component_3\", fitted with 22 total observations, 0 right-censored observations>"
            ]
          },
          "metadata": {},
          "execution_count": 14
        }
      ]
    },
    {
      "cell_type": "code",
      "source": [
        "failures_a_wb.plot_survival_function(ci_show=False)\n",
        "failures_b_wb.plot_survival_function(ci_show=False)\n",
        "failures_c_wb.plot_survival_function(ci_show=False)\n",
        "plt.show()"
      ],
      "metadata": {
        "colab": {
          "base_uri": "https://localhost:8080/",
          "height": 265
        },
        "id": "4imN6YsRIAPB",
        "outputId": "7a8cd4c1-c56f-4570-f4b4-0a5fc2a34eb9"
      },
      "execution_count": 15,
      "outputs": [
        {
          "output_type": "display_data",
          "data": {
            "text/plain": [
              "<Figure size 432x288 with 1 Axes>"
            ],
            "image/png": "[encoded data removed]"
          },
          "metadata": {
            "needs_background": "light"
          }
        }
      ]
    },
    {
      "cell_type": "code",
      "source": [
        "machine_failure_times = np.array([failures_a_wb,failures_b_wb,failures_c_wb])\n",
        "machine_failure_times"
      ],
      "metadata": {
        "colab": {
          "base_uri": "https://localhost:8080/"
        },
        "id": "C3OUJw0BG4e9",
        "outputId": "893c1bbb-a252-4d59-aa26-2e335fb2df7e"
      },
      "execution_count": 16,
      "outputs": [
        {
          "output_type": "execute_result",
          "data": {
            "text/plain": [
              "array([<lifelines.WeibullFitter:\"component_1\", fitted with 22 total observations, 0 right-censored observations>,\n",
              "       <lifelines.WeibullFitter:\"component_2\", fitted with 22 total observations, 0 right-censored observations>,\n",
              "       <lifelines.WeibullFitter:\"component_3\", fitted with 22 total observations, 0 right-censored observations>],\n",
              "      dtype=object)"
            ]
          },
          "metadata": {},
          "execution_count": 16
        }
      ]
    },
    {
      "cell_type": "code",
      "source": [
        "print(failures_a_wb.median_survival_time_)\n",
        "print(failures_b_wb.median_survival_time_)\n",
        "print(failures_c_wb.median_survival_time_)"
      ],
      "metadata": {
        "colab": {
          "base_uri": "https://localhost:8080/"
        },
        "id": "qUhpPl-NH-KD",
        "outputId": "91c84da6-b736-4ba7-d647-73052c6a7319"
      },
      "execution_count": 17,
      "outputs": [
        {
          "output_type": "stream",
          "name": "stdout",
          "text": [
            "157.22900074291118\n",
            "178.33931322824708\n",
            "83.18437645779817\n"
          ]
        }
      ]
    },
    {
      "cell_type": "code",
      "source": [
        "no_of_machine = 3\n",
        "no_of_state = 5\n",
        "# copied from iterative_policy_evaluation\n",
        "def get_transition_probs(machine_failure_times):\n",
        "  ### define transition probabilities and planner ###\n",
        "  # the key is (s, a, s'), the value is the probability\n",
        "  # that is, transition_probs[(s, a, s')] = p(s' | s, a)\n",
        "  # any key NOT present will considered to be impossible (i.e. probability 0)\n",
        "  transition_probs = {}\n",
        "\n",
        "  # to reduce the dimensionality of the dictionary, we'll use deterministic\n",
        "  # rewards, r(s, a, s')\n",
        "  # note: you could make it simpler by using r(s') since the reward doesn't\n",
        "  # actually depend on (s, a)\n",
        "\n",
        "# for m in range(1,(no_of_machine+1)):\n",
        "  for i in range(3):\n",
        "    for p in range(6):\n",
        "      transition_probs[(i,p,'NM')] = machine_failure_times[i].predict(p*100)\n",
        "          \n",
        "  return transition_probs"
      ],
      "metadata": {
        "id": "puUVovWQ9sxR"
      },
      "execution_count": 18,
      "outputs": []
    },
    {
      "cell_type": "code",
      "source": [
        "transition_probs = get_transition_probs(machine_failure_times)"
      ],
      "metadata": {
        "id": "nmVLYW5D9GCD"
      },
      "execution_count": 34,
      "outputs": []
    },
    {
      "cell_type": "code",
      "source": [
        "transition_probs"
      ],
      "metadata": {
        "id": "4lU4YM09nNPD"
      },
      "execution_count": null,
      "outputs": []
    },
    {
      "cell_type": "code",
      "execution_count": 28,
      "metadata": {
        "id": "dnaR6oNj8rtr"
      },
      "outputs": [],
      "source": [
        "# # AI-Based Maintenance Planner Environment\n",
        "# import numpy as np\n",
        "\n",
        "# # \"NM\" = No Maintenance, \"PM\" = Preventive Maintenance\n",
        "# ACTION_SPACE = ('NM', 'PM')\n",
        "\n",
        "# class Planner: # Environment for 3 machines\n",
        "#   def __init__(self, start=(0,0,0)):\n",
        "#     self.s = start\n",
        "\n",
        "#   def set(self, rewards, actions):\n",
        "#     # rewards should be a dict of: (\"action\"): r (\"NM\"): reward\n",
        "#     # actions should be a dict of: (int): A (1): list of actions for all 3 machines\n",
        "#     self.rewards = rewards\n",
        "#     self.actions = actions\n",
        "\n",
        "#   # Use to set next state to current state\n",
        "#   def set_state(self, s):\n",
        "#     self.s = tuple(s)\n",
        "\n",
        "#   def current_state(self):\n",
        "#     return (self.s)\n",
        "\n",
        "#   def is_terminal(self):  #Takes tuple of states for all machines, Returns a boolean tuple\n",
        "#     status = []\n",
        "#     for t in range(3):\n",
        "#       status.append(self.s[t] >= 5)\n",
        "      \n",
        "#     return(status)\n",
        "\n",
        "#   def is_terminal_single(self, s):  # Takes single machine state, Returns a boolean \n",
        "#     return s >= 5\n",
        "\n",
        "#   def reset(self):\n",
        "#     # put agent back in start position\n",
        "#     self.s = (0,0,0)\n",
        "#     return (self.s)\n",
        "\n",
        "#   def get_next_state(self,a):\n",
        "#     # This answers: where would I end up if I perform action 'a' in state 's'?\n",
        "#     s_next = [0,0,0]\n",
        "#     for m in range(3):\n",
        "#       # Check if state is terminal\n",
        "#       # When in terminal state, the next state is independent of the action taken\n",
        "#       if self.is_terminal_single(self.s[m]):\n",
        "#         s_next[m] = 0\n",
        "#         # Debugging tool\n",
        "#         print(\"episode end:\", m, self.s[m], s_next[m], a[m])\n",
        "#       else:\n",
        "#         print(\"Not terminal state:\", m, self.s[m], s_next[m], a[m])\n",
        "      \n",
        "#       if a[m] == \"NM\":\n",
        "#         if (self.is_terminal_single(self.s[m]) == 0):\n",
        "#           s_next[m] = np.random.choice([self.s[m] + 1, 0], p=[transition_probs[m,self.s[m],a[m]], 1-transition_probs[m,self.s[m],a[m]]])\n",
        "#           # Debugging \n",
        "#           print(\"Action is AM:\", m, self.s[m], s_next[m], a[m])\n",
        "\n",
        "#       if a[m] == \"PM\":\n",
        "#         s_next[m] = 0\n",
        "#         # Debugging\n",
        "#         print(\"action is PM:\", m, self.s[m], s_next[m], a[m])\n",
        "    \n",
        "#     # Set next state as new state\n",
        "#     self.set_state(s_next)\n",
        "#     return s_next\n",
        "\n",
        "#   def act(self, a):\n",
        "#     a_array = np.copy(a)\n",
        "#     reward = np.zeros((3,))\n",
        "#     # this answers: where would I end up if I perform action 'a' in state 's'?\n",
        "#     s_next = np.zeros((3,))\n",
        "#     for m in range(3):\n",
        "#       # Check if state is terminal\n",
        "#       if self.is_terminal_single(self.s[m]):\n",
        "#         s_next[m] = 0\n",
        "#         a_array[m] = \"CM\"\n",
        "\n",
        "#       if a[m] == \"NM\":\n",
        "#         if (self.is_terminal_single(self.s[m]) == 0):\n",
        "#           s_next[m] = np.random.choice([self.s[m] + 1, 0], p=[transition_probs[m,self.s[m],a[m]], 1-transition_probs[m,self.s[m],a[m]]])\n",
        "#           if s_next[m] == 0:\n",
        "#             a_array[m] = \"CM\"\n",
        "            \n",
        "\n",
        "#       if a[m] == \"PM\":\n",
        "#         s_next[m] = 0\n",
        "\n",
        "#       # Collect reward for action taken on each machine\n",
        "#       reward[m] = self.rewards[a_array[m]]\n",
        "\n",
        "#     # Set next state as new state\n",
        "#     self.set_state(s_next)\n",
        "#     return reward.sum()\n",
        "\n",
        "# def standard_planner():\n",
        "#   # define a planner that describes the reward for arriving at each state\n",
        "#   # and possible actions at each state\n",
        "#   # s means start position\n",
        "#   g = Planner()\n",
        "#   rewards = {(\"NM\"): 0, (\"PM\"): -100, (\"CM\"): -200}\n",
        "#   actions = {\n",
        "#     (0): ('NM', 'NM', 'NM'),\n",
        "#     (1): ('PM', 'PM', 'PM'),\n",
        "#     (2): ('NM', 'NM', 'PM'),\n",
        "#     (3): ('NM', 'PM', 'NM'),\n",
        "#     (4): ('PM', 'NM', 'NM'),\n",
        "#     (5): ('PM', 'PM', 'NM'),\n",
        "#     (6): ('PM', 'NM', 'PM'),\n",
        "#     (7): ('NM', 'PM', 'PM'),\n",
        "#   }\n",
        "#   g.set(rewards, actions)\n",
        "#   return g"
      ]
    },
    {
      "cell_type": "code",
      "source": [],
      "metadata": {
        "id": "bp2cw3lhNZe4"
      },
      "execution_count": null,
      "outputs": []
    },
    {
      "cell_type": "code",
      "execution_count": 35,
      "metadata": {
        "id": "rVc4j_hNNZ1Q"
      },
      "outputs": [],
      "source": [
        "# AI-Based Maintenance Planner Environment\n",
        "import numpy as np\n",
        "\n",
        "# \"NM\" = No Maintenance, \"PM\" = Preventive Maintenance\n",
        "ACTION_SPACE = ('NM', 'PM')\n",
        "\n",
        "class Planner: # Environment for m_no of machines\n",
        "  def __init__(self, no_of_machines, no_of_states):\n",
        "    self.no_of_machines = no_of_machines\n",
        "    self.no_of_states = no_of_states\n",
        "    self.s = tuple(np.zeros(no_of_machines))\n",
        "\n",
        "  def set(self, rewards, actions):\n",
        "    # rewards should be a dict of: (\"action\"): r (\"NM\"): reward\n",
        "    # actions should be a dict of: (int): A (1): list of actions for all 3 machines\n",
        "    self.rewards = rewards\n",
        "    self.actions = actions\n",
        "\n",
        "  # Use to set next state to current state\n",
        "  def set_state(self, s):\n",
        "    self.s = tuple(s)\n",
        "\n",
        "  def current_state(self):\n",
        "    return (self.s)\n",
        "\n",
        "  def is_terminal(self):  #Takes tuple of states for all machines, Returns a boolean tuple\n",
        "    status = []\n",
        "    for t in range(self.no_of_machines):\n",
        "      status.append(self.s[t] >= self.no_of_states)\n",
        "      \n",
        "    return(status)\n",
        "\n",
        "  def is_terminal_single(self, s):  # Takes single machine state, Returns a boolean \n",
        "    return s >= self.no_of_states\n",
        "\n",
        "  def reset(self):\n",
        "    # put agent back in start position\n",
        "    self.s = tuple(np.zeros(self.no_of_machines))\n",
        "    return (self.s)\n",
        "\n",
        "  def get_next_state(self,a):\n",
        "    # This answers: where would I end up if I perform action 'a' in state 's'?\n",
        "    s_next = np.zeros(self.no_of_machines)\n",
        "    for m in range(self.no_of_machines):\n",
        "      # Check if state is terminal\n",
        "      # When in terminal state, the next state is independent of the action taken\n",
        "      if self.is_terminal_single(self.s[m]):\n",
        "        s_next[m] = 0\n",
        "        # Debugging tool\n",
        "        print(\"episode end:\", m, self.s[m], s_next[m], a[m])\n",
        "      else:\n",
        "        print(\"Not terminal state:\", m, self.s[m], s_next[m], a[m])\n",
        "      \n",
        "      if a[m] == \"NM\":\n",
        "        if (self.is_terminal_single(self.s[m]) == 0):\n",
        "          prob_m = transition_probs[m,self.s[m],a[m]]\n",
        "          s_next[m] = np.random.choice([self.s[m] + 1, 0], p=[prob_m, 1-prob_m])\n",
        "          # Debugging \n",
        "          print(\"Action is AM:\", m, self.s[m], s_next[m], a[m])\n",
        "\n",
        "      if a[m] == \"PM\":\n",
        "        s_next[m] = 0\n",
        "        # Debugging\n",
        "        print(\"action is PM:\", m, self.s[m], s_next[m], a[m])\n",
        "    \n",
        "    # Set next state as new state\n",
        "    self.set_state(s_next)\n",
        "    return s_next\n",
        "\n",
        "  def act(self, a):\n",
        "    a_array = np.copy(a)\n",
        "    reward = np.zeros(self.no_of_machines)\n",
        "    # this answers: where would I end up if I perform action 'a' in state 's'?\n",
        "    s_next = np.zeros(self.no_of_machines)\n",
        "    for m in range(self.no_of_machines):\n",
        "      # Check if state is terminal\n",
        "      if self.is_terminal_single(self.s[m]):\n",
        "        s_next[m] = 0\n",
        "        a_array[m] = \"CM\"\n",
        "\n",
        "      if a[m] == \"NM\":\n",
        "        if (self.is_terminal_single(self.s[m]) == 0):\n",
        "          prob_m = transition_probs[m,self.s[m],a[m]]\n",
        "          s_next[m] = np.random.choice([self.s[m] + 1, 0], p=[prob_m, 1-prob_m])\n",
        "          if s_next[m] == 0:\n",
        "            a_array[m] = \"CM\"\n",
        "            \n",
        "\n",
        "      if a[m] == \"PM\":\n",
        "        s_next[m] = 0\n",
        "\n",
        "      # Collect reward for action taken on each machine\n",
        "      reward[m] = self.rewards[a_array[m]]\n",
        "\n",
        "    # Set next state as new state\n",
        "    self.set_state(s_next)\n",
        "    return reward.sum()\n",
        "\n",
        "def standard_planner(no_of_machines=3, no_of_states=5):\n",
        "  # define a planner that describes the reward for arriving at each state\n",
        "  # and possible actions at each state\n",
        "  # s means start position\n",
        "  g = Planner(no_of_machines=3, no_of_states=5)\n",
        "  rewards = {(\"NM\"): 0, (\"PM\"): -100, (\"CM\"): -200}\n",
        "  actions = {\n",
        "    (0): ('NM', 'NM', 'NM'),\n",
        "    (1): ('PM', 'PM', 'PM'),\n",
        "    (2): ('NM', 'NM', 'PM'),\n",
        "    (3): ('NM', 'PM', 'NM'),\n",
        "    (4): ('PM', 'NM', 'NM'),\n",
        "    (5): ('PM', 'PM', 'NM'),\n",
        "    (6): ('PM', 'NM', 'PM'),\n",
        "    (7): ('NM', 'PM', 'PM'),\n",
        "  }\n",
        "  g.set(rewards, actions)\n",
        "  return g"
      ]
    },
    {
      "cell_type": "code",
      "source": [
        "# What if my state is just a tuple and not a dico\n",
        "# Not a list of lists but a list of tuples.... (Take Note)\n",
        "def get_all_states():\n",
        "  states= []\n",
        "  count = 0\n",
        "  for i in range(6):\n",
        "    for j in range(6):\n",
        "      for p in range(6):\n",
        "        states.append((i,j,p))\n",
        "        \n",
        "\n",
        "        \n",
        "  return states"
      ],
      "metadata": {
        "id": "DYfQSnf0O-pB"
      },
      "execution_count": 36,
      "outputs": []
    },
    {
      "cell_type": "code",
      "source": [
        "# get_all_states()"
      ],
      "metadata": {
        "id": "CtEY9sntBB__"
      },
      "execution_count": 23,
      "outputs": []
    },
    {
      "cell_type": "code",
      "source": [
        "# Let's create a state dict\n",
        "states_dict = {}\n",
        "for idx,stat in enumerate(get_all_states()):\n",
        "  states_dict[idx] = stat"
      ],
      "metadata": {
        "id": "-dIil8zUDRj2"
      },
      "execution_count": 37,
      "outputs": []
    },
    {
      "cell_type": "code",
      "source": [
        "# states_dict"
      ],
      "metadata": {
        "id": "Ntf9xXimD_88"
      },
      "execution_count": null,
      "outputs": []
    },
    {
      "cell_type": "code",
      "source": [
        "# Q-Learning\n",
        "GAMMA = 0.9\n",
        "ALPHA = 0.1\n",
        "ALL_POSSIBLE_ACTIONS = np.arange(8)\n",
        "\n",
        "def max_dict(d):\n",
        "  # returns the argmax (key) and max (value) from a dictionary\n",
        "  # put this into a function since we are using it so often\n",
        "\n",
        "  # find max val\n",
        "  max_val = max(d.values())\n",
        "\n",
        "  # find keys corresponding to max val\n",
        "  max_keys = [key for key, val in d.items() if val == max_val]\n",
        "\n",
        "  return np.random.choice(max_keys), max_val\n",
        "\n",
        "\n",
        "def epsilon_greedy(Q, s, eps=0.2):\n",
        "  if np.random.random() < eps:\n",
        "    return np.random.choice(ALL_POSSIBLE_ACTIONS)\n",
        "  else:\n",
        "    a_opt = max_dict(Q[s])[0]\n",
        "    return a_opt\n",
        "\n",
        "\n",
        "if __name__ == '__main__':\n",
        "  # planner = standard_planner()\n",
        "  planner = standard_planner()\n",
        "\n",
        "\n",
        "  # initialize Q(s,a)\n",
        "  Q = {}\n",
        "  sample_counts = {}\n",
        "  states = get_all_states()\n",
        "  for s in states:\n",
        "    Q[s] = {}\n",
        "    sample_counts[s] = {}\n",
        "    for a in ALL_POSSIBLE_ACTIONS:\n",
        "      Q[s][a] = 0\n",
        "      sample_counts[s][a] = 0\n",
        "\n",
        "  # let's also keep track of how many times Q[s] has been updated\n",
        "  update_counts = {}\n",
        "\n",
        "  # repeat until convergence\n",
        "  reward_per_episode = []\n",
        "  for it in range(100000):\n",
        "    if it % 200 == 0:\n",
        "      print(\"it:\", it)\n",
        "\n",
        "    # begin a new episode\n",
        "    # s = planner.reset()\n",
        "    # episode_reward = 0\n",
        "\n",
        "    # Trying random state-action pair\n",
        "    st = np.random.choice(np.arange(216))\n",
        "    s = states_dict[st]\n",
        "    a = np.random.choice(ALL_POSSIBLE_ACTIONS)\n",
        "    episode_reward = 0\n",
        "    for i in range(1000):\n",
        "      # perform action and get next state + reward\n",
        "      # a = epsilon_greedy(Q, s, eps=0.2)\n",
        "      r = planner.act(planner.actions[a])\n",
        "      s2 = planner.current_state()\n",
        "\n",
        "      # update reward\n",
        "      episode_reward += r\n",
        "\n",
        "      # update Q(s,a)\n",
        "      maxQ = max_dict(Q[s2])[1]\n",
        "      Q[s][a] = Q[s][a] + ALPHA*(r + GAMMA*maxQ - Q[s][a])\n",
        "\n",
        "      # we would like to know how often Q(s) has been updated too\n",
        "      update_counts[s] = update_counts.get(s,0) + 1\n",
        "\n",
        "      # How many times Q[s][a] has been updated\n",
        "      sample_counts[s][a] += 1\n",
        "\n",
        "      # next state becomes current state\n",
        "      s = s2\n",
        "\n",
        "      a = epsilon_greedy(Q, s, eps=0.2)\n",
        "\n",
        "    # log the reward for this episode\n",
        "    reward_per_episode.append(episode_reward)\n"
      ],
      "metadata": {
        "id": "C4S8w9VFj32h"
      },
      "execution_count": null,
      "outputs": []
    },
    {
      "cell_type": "code",
      "source": [
        "  # determine the policy from Q*\n",
        "  # find V* from Q*\n",
        "  policy = {}\n",
        "  V = {}\n",
        "  for s in get_all_states():\n",
        "    a, max_q = max_dict(Q[s])\n",
        "    policy[s] = a\n",
        "    V[s] = max_q"
      ],
      "metadata": {
        "id": "UG3QvfjA_KNe"
      },
      "execution_count": null,
      "outputs": []
    },
    {
      "cell_type": "code",
      "source": [
        "  plt.plot(reward_per_episode)\n",
        "  plt.title(\"reward_per_episode\")\n",
        "  plt.xlabel('episode')\n",
        "  plt.ylabel('reward')\n",
        "  plt.show()\n",
        "  plt.savefig('rewards2-per-episode.png')"
      ],
      "metadata": {
        "colab": {
          "base_uri": "https://localhost:8080/",
          "height": 313
        },
        "id": "uOF2KY6DB2TP",
        "outputId": "88e9dfae-fca9-4d12-d139-f28b01425421"
      },
      "execution_count": null,
      "outputs": [
        {
          "output_type": "display_data",
          "data": {
            "text/plain": [
              "<Figure size 432x288 with 1 Axes>"
            ],
            "image/png": "[encoded data removed]"
          },
          "metadata": {
            "needs_background": "light"
          }
        },
        {
          "output_type": "display_data",
          "data": {
            "text/plain": [
              "<Figure size 432x288 with 0 Axes>"
            ]
          },
          "metadata": {}
        }
      ]
    },
    {
      "cell_type": "code",
      "source": [
        "policy"
      ],
      "metadata": {
        "id": "DAaVpq3AxDLe"
      },
      "execution_count": null,
      "outputs": []
    },
    {
      "cell_type": "code",
      "source": [
        "np.savetxt('reward-per-episode', reward_per_episode, fmt='%s', delimiter = ',' )"
      ],
      "metadata": {
        "id": "7FPgRbb1sCFn"
      },
      "execution_count": null,
      "outputs": []
    },
    {
      "cell_type": "code",
      "source": [
        "# Writing nested dictionary to csv\n",
        "import csv\n",
        "import itertools\n",
        "field_names= ['state', 0,1,2,3,4,5,6,7]\n",
        "with open('Sample_counts.csv', 'w') as csvfile:\n",
        "  writer = csv.DictWriter(csvfile, field_names)\n",
        "  for key, val in sample_counts.items():\n",
        "    row = {'state': key}\n",
        "    row.update(val)\n",
        "    writer.writerow(row)"
      ],
      "metadata": {
        "id": "BvaOnYVAsnXq"
      },
      "execution_count": null,
      "outputs": []
    },
    {
      "cell_type": "code",
      "source": [
        "# Writing nested dictionary to csv\n",
        "import csv\n",
        "import itertools\n",
        "field_names= ['state', 0,1,2,3,4,5,6,7]\n",
        "with open('Q.csv', 'w') as csvfile:\n",
        "  writer = csv.DictWriter(csvfile, field_names)\n",
        "  for key, val in Q.items():\n",
        "    row = {'state': key}\n",
        "    row.update(val)\n",
        "    writer.writerow(row)"
      ],
      "metadata": {
        "id": "JZtepA9ftFqn"
      },
      "execution_count": null,
      "outputs": []
    },
    {
      "cell_type": "code",
      "source": [
        "policy_view = policy.items()\n",
        "policy_list = list(policy_view)\n",
        "policy_list"
      ],
      "metadata": {
        "id": "FSCR858du6k-"
      },
      "execution_count": null,
      "outputs": []
    },
    {
      "cell_type": "code",
      "source": [
        "np.savetxt('policy-list.csv', policy_list, fmt='%s', delimiter=',')"
      ],
      "metadata": {
        "id": "cia3jOETqqZD"
      },
      "execution_count": null,
      "outputs": []
    },
    {
      "cell_type": "code",
      "source": [
        "V_view = V.items()\n",
        "V_list = list(V_view)\n",
        "V_list"
      ],
      "metadata": {
        "id": "t6E192xAtcPn"
      },
      "execution_count": null,
      "outputs": []
    },
    {
      "cell_type": "code",
      "source": [
        "np.savetxt('V_list.csv', V_list, fmt='%s', delimiter=',')"
      ],
      "metadata": {
        "id": "qxuCsoXYuyBF"
      },
      "execution_count": null,
      "outputs": []
    },
    {
      "cell_type": "code",
      "source": [
        "# transitionprobs_view = transition_probs.items()\n",
        "# transitionprobs_list = list(transitionprobs_view)\n",
        "# transitionprobs_list"
      ],
      "metadata": {
        "id": "r5IiXJY2zJkn"
      },
      "execution_count": null,
      "outputs": []
    },
    {
      "cell_type": "code",
      "source": [
        "# np.savetxt('transitionprobs-list.csv', transitionprobs_list, fmt='%s', delimiter=',')"
      ],
      "metadata": {
        "id": "EXo-snEqL6HE"
      },
      "execution_count": null,
      "outputs": []
    },
    {
      "cell_type": "markdown",
      "source": [
        "LET'S BEGIN SIMULATION....\n",
        "\n",
        "\n",
        "*   Seperate Simulation programs for were created for the three policies below - The major change to the programs are the policies used.\n",
        "*   A modified planner class helper function named standard_planner_sim() was created for the simulation. It collects info about the number of preventive and corrective maintenance carried out in each iteration.\n",
        "\n"
      ],
      "metadata": {
        "id": "lTUofqKsJ00-"
      }
    },
    {
      "cell_type": "code",
      "execution_count": null,
      "metadata": {
        "id": "XlVKszVXxI3A"
      },
      "outputs": [],
      "source": [
        "# AI-Based Maintenance Planner Environment for Simulation\n",
        "import numpy as np\n",
        "\n",
        "# \"NM\" = No Maintenance, \"PM\" = Preventive Maintenance\n",
        "ACTION_SPACE = ('NM', 'PM')\n",
        "\n",
        "class Planner: # Environment for 3 machines\n",
        "  def __init__(self, start=(0,0,0)):\n",
        "    self.s = start\n",
        "\n",
        "  def set(self, rewards, actions):\n",
        "    # rewards should be a dict of: (\"action\"): r (\"NM\"): reward\n",
        "    # actions should be a dict of: (int): A (1): list of actions for all 3 machines\n",
        "    self.rewards = rewards\n",
        "    self.actions = actions\n",
        "    # self.PM_counts = PM_counts\n",
        "\n",
        "  # Use to set next state to current state\n",
        "  def set_state(self, s):\n",
        "    self.s = tuple(s)\n",
        "\n",
        "  def current_state(self):\n",
        "    return (self.s)\n",
        "\n",
        "  def is_terminal(self):  #Takes tuple of states for all machines, Returns a boolean tuple\n",
        "    status = []\n",
        "    for t in range(3):\n",
        "      status.append(self.s[t] >= 5)\n",
        "      \n",
        "    return(status)\n",
        "\n",
        "  def is_terminal_single(self, s):  # Takes single machine state, Returns a boolean \n",
        "    return s >= 5\n",
        "\n",
        "  def reset(self):\n",
        "    # put agent back in start position\n",
        "    self.s = (0,0,0)\n",
        "    return (self.s)\n",
        "\n",
        "  def get_next_state(self,a):\n",
        "    # This answers: where would I end up if I perform action 'a' in state 's'?\n",
        "    s_next = [0,0,0]\n",
        "\n",
        "    for m in range(3):\n",
        "      # Check if state is terminal\n",
        "      # When in terminal state, the next state is independent of the action taken\n",
        "      if self.is_terminal_single(self.s[m]):\n",
        "        s_next[m] = 0\n",
        "        # Debugging tool\n",
        "        print(\"episode end:\", m, self.s[m], s_next[m], a[m])\n",
        "      else:\n",
        "        print(\"Not terminal state:\", m, self.s[m], s_next[m], a[m])\n",
        "      \n",
        "      if a[m] == \"NM\":\n",
        "        if (self.is_terminal_single(self.s[m]) == 0):\n",
        "          s_next[m] = np.random.choice([self.s[m] + 1, 0], p=[transition_probs[m,self.s[m],a[m]], 1-transition_probs[m,self.s[m],a[m]]])\n",
        "          # Debugging \n",
        "          print(\"Action is AM:\", m, self.s[m], s_next[m], a[m])\n",
        "\n",
        "      if a[m] == \"PM\":\n",
        "        s_next[m] = 0\n",
        "        # Debugging\n",
        "        print(\"action is PM:\", m, self.s[m], s_next[m], a[m])\n",
        "    \n",
        "    # Set next state as new state\n",
        "    self.set_state(s_next)\n",
        "    return s_next\n",
        "\n",
        "  def act(self, a):\n",
        "    a_array = np.copy(a)\n",
        "    reward = np.zeros((3,))\n",
        "    PM_counts = np.zeros((3,))\n",
        "    CM_counts = np.zeros((3,))\n",
        "\n",
        "    # this answers: where would I end up if I perform action 'a' in state 's'?\n",
        "    s_next = np.zeros((3,))\n",
        "    for m in range(3):\n",
        "      # Check if state is terminal\n",
        "      if self.is_terminal_single(self.s[m]):\n",
        "        s_next[m] = 0\n",
        "        a_array[m] = \"CM\"\n",
        "        CM_counts[m] = 1\n",
        "\n",
        "      if a[m] == \"NM\":\n",
        "        if (self.is_terminal_single(self.s[m]) == 0):\n",
        "          s_next[m] = np.random.choice([self.s[m] + 1, 0], p=[transition_probs[m,self.s[m],a[m]], 1-transition_probs[m,self.s[m],a[m]]])\n",
        "          if s_next[m] == 0:\n",
        "            a_array[m] = \"CM\"\n",
        "            CM_counts[m] = 1\n",
        "            \n",
        "\n",
        "      if a[m] == \"PM\":\n",
        "        s_next[m] = 0\n",
        "        PM_counts[m] = 1\n",
        "\n",
        "      # Collect reward for action taken on each machine\n",
        "      reward[m] = self.rewards[a_array[m]]\n",
        "\n",
        "       \n",
        "\n",
        "    # Set next state as new state\n",
        "    self.set_state(s_next)\n",
        "    return reward.sum(), PM_counts, CM_counts\n",
        "\n",
        "def standard_planner_sim():\n",
        "  # define a planner that describes the reward for arriving at each state\n",
        "  # and possible actions at each state\n",
        "  # s means start position\n",
        "  g = Planner()\n",
        "  rewards = {(\"NM\"): 0, (\"PM\"): -100, (\"CM\"): -500}\n",
        "  actions = {\n",
        "    (0): ('NM', 'NM', 'NM'),\n",
        "    (1): ('PM', 'PM', 'PM'),\n",
        "    (2): ('NM', 'NM', 'PM'),\n",
        "    (3): ('NM', 'PM', 'NM'),\n",
        "    (4): ('PM', 'NM', 'NM'),\n",
        "    (5): ('PM', 'PM', 'NM'),\n",
        "    (6): ('PM', 'NM', 'PM'),\n",
        "    (7): ('NM', 'PM', 'PM'),\n",
        "  }\n",
        "  g.set(rewards, actions)\n",
        "  return g"
      ]
    },
    {
      "cell_type": "code",
      "source": [
        "# Q-Learning Simulation / Agent Play\n",
        "if __name__ == '__main__':\n",
        "  # planner = standard_planner()\n",
        "  planner = standard_planner_sim()\n",
        "\n",
        "  # repeat until convergence\n",
        "  reward_per_episode = []\n",
        "  # Create lists to store PMs and CMs/episode: These will be a list of lists (3 machines/episode)\n",
        "  PM_counts_per_episode = []\n",
        "  CM_counts_per_episode = []\n",
        "\n",
        "  for it in range(1000):\n",
        "    if it % 200 == 0:\n",
        "      print(\"it:\", it)\n",
        "\n",
        "    # begin a new episode\n",
        "    s = planner.reset()\n",
        "    episode_reward = 0\n",
        "    episode_PM_counts = np.zeros((3,))\n",
        "    episode_CM_counts = np.zeros((3,))\n",
        "\n",
        "    for i in range(100):\n",
        "      # perform action and get next state + reward\n",
        "      a = policy[s]\n",
        "      # print(a)\n",
        "      r, PM_counts_per_timestep, CM_counts_per_timestep = planner.act(planner.actions[a])\n",
        "      s2 = planner.current_state()\n",
        "\n",
        "      # update reward\n",
        "      episode_reward += r\n",
        "\n",
        "      # From the envir returns a list of PMs/timestep, which we can update\n",
        "      # Update PM_counts\n",
        "      episode_PM_counts += PM_counts_per_timestep \n",
        "\n",
        "      episode_CM_counts += CM_counts_per_timestep \n",
        "\n",
        "      # next state becomes current state\n",
        "      s = s2\n",
        "    \n",
        "    # log the reward for this episode\n",
        "    reward_per_episode.append(episode_reward)\n",
        "\n",
        "\n",
        "    # log PM/s per episode\n",
        "    PM_counts_per_episode.append(episode_PM_counts)\n",
        "    CM_counts_per_episode.append(episode_CM_counts)\n"
      ],
      "metadata": {
        "colab": {
          "base_uri": "https://localhost:8080/"
        },
        "id": "BHV1p7aqxS-7",
        "outputId": "6202b1df-a113-473e-8365-5827f27277ca"
      },
      "execution_count": null,
      "outputs": [
        {
          "output_type": "stream",
          "name": "stdout",
          "text": [
            "it: 0\n",
            "it: 200\n",
            "it: 400\n",
            "it: 600\n",
            "it: 800\n"
          ]
        }
      ]
    },
    {
      "cell_type": "code",
      "source": [
        "# Periodic Maintenance Simulation\n",
        "# Policy function\n",
        "def periodic_policy(i):\n",
        "  if (((i+1) % 3 == 0) & (i != 0)):\n",
        "    policy = 1\n",
        "  else:\n",
        "    policy = 0\n",
        "  return policy\n",
        "\n",
        "if __name__ == '__main__':\n",
        "  # planner = standard_planner()\n",
        "  planner = standard_planner_sim()\n",
        "\n",
        "  # repeat until convergence\n",
        "  reward_per_episode = []\n",
        "  # Create lists to store PMs and CMs/episode: These will be a list of lists (3 machines/episode)\n",
        "  PM_counts_per_episode = []\n",
        "  CM_counts_per_episode = []\n",
        "\n",
        "  for it in range(1000):\n",
        "    if it % 200 == 0:\n",
        "      print(\"it:\", it)\n",
        "\n",
        "    # begin a new episode\n",
        "    s = planner.reset()\n",
        "    episode_reward = 0\n",
        "    episode_PM_counts = np.zeros((3,))\n",
        "    episode_CM_counts = np.zeros((3,))\n",
        "\n",
        "    for i in range(100):\n",
        "      # perform action and get next state + reward\n",
        "      a = periodic_policy(i)\n",
        "      # print(a)\n",
        "      r, PM_counts_per_timestep, CM_counts_per_timestep = planner.act(planner.actions[a])\n",
        "      s2 = planner.current_state()\n",
        "\n",
        "      # update reward\n",
        "      episode_reward += r\n",
        "\n",
        "      # From the envir returns a list of PMs/timestep, which we can update\n",
        "      # Update PM_counts\n",
        "      episode_PM_counts += PM_counts_per_timestep \n",
        "\n",
        "      episode_CM_counts += CM_counts_per_timestep \n",
        "\n",
        "      # next state becomes current state\n",
        "      s = s2\n",
        "    \n",
        "    # log the reward for this episode\n",
        "    reward_per_episode.append(episode_reward)\n",
        "\n",
        "\n",
        "    # log PM/s per episode\n",
        "    PM_counts_per_episode.append(episode_PM_counts)\n",
        "    CM_counts_per_episode.append(episode_CM_counts)\n"
      ],
      "metadata": {
        "id": "Ob-kHjiUtJ8j",
        "colab": {
          "base_uri": "https://localhost:8080/"
        },
        "outputId": "728accf1-e441-4fb4-cdcc-d144369a506d"
      },
      "execution_count": null,
      "outputs": [
        {
          "output_type": "stream",
          "name": "stdout",
          "text": [
            "it: 0\n",
            "it: 200\n",
            "it: 400\n",
            "it: 600\n",
            "it: 800\n"
          ]
        }
      ]
    },
    {
      "cell_type": "code",
      "source": [
        "# Corrective Maintenance Policy\n",
        "if __name__ == '__main__':\n",
        "  # planner = standard_planner()\n",
        "  planner = standard_planner_sim()\n",
        "\n",
        "  # repeat until convergence\n",
        "  reward_per_episode = []\n",
        "  # Create lists to store PMs and CMs/episode: These will be a list of lists (3 machines/episode)\n",
        "  PM_counts_per_episode = []\n",
        "  CM_counts_per_episode = []\n",
        "\n",
        "  for it in range(1000):\n",
        "    if it % 200 == 0:\n",
        "      print(\"it:\", it)\n",
        "\n",
        "    # begin a new episode\n",
        "    s = planner.reset()\n",
        "    episode_reward = 0\n",
        "    episode_PM_counts = np.zeros((3,))\n",
        "    episode_CM_counts = np.zeros((3,))\n",
        "\n",
        "    for i in range(100):\n",
        "      # perform action and get next state + reward\n",
        "      a = 0\n",
        "      r, PM_counts_per_timestep, CM_counts_per_timestep = planner.act(planner.actions[a])\n",
        "      s2 = planner.current_state()\n",
        "\n",
        "      # update reward\n",
        "      episode_reward += r\n",
        "\n",
        "      # From the envir returns a list of PMs/timestep, which we can update\n",
        "      # Update PM_counts\n",
        "      episode_PM_counts += PM_counts_per_timestep \n",
        "\n",
        "      episode_CM_counts += CM_counts_per_timestep \n",
        "\n",
        "      # next state becomes current state\n",
        "      s = s2\n",
        "    \n",
        "    # log the reward for this episode\n",
        "    reward_per_episode.append(episode_reward)\n",
        "\n",
        "\n",
        "    # log PM/s per episode\n",
        "    PM_counts_per_episode.append(episode_PM_counts)\n",
        "    CM_counts_per_episode.append(episode_CM_counts)\n"
      ],
      "metadata": {
        "id": "KFUy21YkwvYo",
        "colab": {
          "base_uri": "https://localhost:8080/"
        },
        "outputId": "3fbcf24e-f0f7-4e93-eb1f-45e4c8603001"
      },
      "execution_count": null,
      "outputs": [
        {
          "output_type": "stream",
          "name": "stdout",
          "text": [
            "it: 0\n",
            "it: 200\n",
            "it: 400\n",
            "it: 600\n",
            "it: 800\n"
          ]
        }
      ]
    },
    {
      "cell_type": "markdown",
      "source": [
        "Collect relevant Info from simulation"
      ],
      "metadata": {
        "id": "f-wmtaT7K_Vq"
      }
    },
    {
      "cell_type": "code",
      "source": [
        "maintenance_cost_per_episode = -np.array(reward_per_episode)"
      ],
      "metadata": {
        "id": "9BBOn-l-D3Oy"
      },
      "execution_count": null,
      "outputs": []
    },
    {
      "cell_type": "code",
      "source": [
        "maintenance_cost_per_episode"
      ],
      "metadata": {
        "id": "e6AUhJIzGi-3"
      },
      "execution_count": null,
      "outputs": []
    },
    {
      "cell_type": "code",
      "source": [
        "reward_per_episode = np.array(reward_per_episode)"
      ],
      "metadata": {
        "id": "280wBiobxaXn"
      },
      "execution_count": null,
      "outputs": []
    },
    {
      "cell_type": "code",
      "source": [
        "reward_per_episode"
      ],
      "metadata": {
        "id": "ZbNSjxvdGzd6"
      },
      "execution_count": null,
      "outputs": []
    },
    {
      "cell_type": "code",
      "source": [
        "PM_counts_per_episode = np.array(PM_counts_per_episode)"
      ],
      "metadata": {
        "id": "gdCRPamVG-0F"
      },
      "execution_count": null,
      "outputs": []
    },
    {
      "cell_type": "code",
      "source": [
        "PM_counts_per_episode"
      ],
      "metadata": {
        "id": "FTtZMKxdHB3P"
      },
      "execution_count": null,
      "outputs": []
    },
    {
      "cell_type": "code",
      "source": [
        "CM_counts_per_episode = np.array(CM_counts_per_episode)"
      ],
      "metadata": {
        "id": "TWwyNIDpHJqb"
      },
      "execution_count": null,
      "outputs": []
    },
    {
      "cell_type": "code",
      "source": [
        "CM_counts_per_episode"
      ],
      "metadata": {
        "id": "kA8yWQswHNJt"
      },
      "execution_count": null,
      "outputs": []
    },
    {
      "cell_type": "code",
      "source": [
        "average_maintenance_cost = np.mean(maintenance_cost_per_episode)"
      ],
      "metadata": {
        "id": "ljtBuNNm792q"
      },
      "execution_count": null,
      "outputs": []
    },
    {
      "cell_type": "code",
      "source": [
        "average_maintenance_cost"
      ],
      "metadata": {
        "id": "9dJZ8_tq8MSo"
      },
      "execution_count": null,
      "outputs": []
    },
    {
      "cell_type": "code",
      "source": [
        "average_CM_counts_per_machine = np.mean(np.array(CM_counts_per_episode), axis=0)"
      ],
      "metadata": {
        "id": "GetTOGXm8fR9"
      },
      "execution_count": null,
      "outputs": []
    },
    {
      "cell_type": "code",
      "source": [
        "average_CM_counts_per_machine"
      ],
      "metadata": {
        "colab": {
          "base_uri": "https://localhost:8080/"
        },
        "id": "o-iGCMF88ttL",
        "outputId": "74cca169-2102-444f-c723-2aa8cf3fef6f"
      },
      "execution_count": null,
      "outputs": [
        {
          "output_type": "execute_result",
          "data": {
            "text/plain": [
              "array([0., 0., 0.])"
            ]
          },
          "metadata": {},
          "execution_count": 159
        }
      ]
    },
    {
      "cell_type": "code",
      "source": [
        "average_PM_counts_per_machine = np.mean(np.array(PM_counts_per_episode), axis=0)\n",
        "average_PM_counts_per_machine"
      ],
      "metadata": {
        "colab": {
          "base_uri": "https://localhost:8080/"
        },
        "id": "M0g9DJhn-yYx",
        "outputId": "c146c37a-27c1-4a01-81e5-27250b811e1e"
      },
      "execution_count": null,
      "outputs": [
        {
          "output_type": "execute_result",
          "data": {
            "text/plain": [
              "array([50., 50., 50.])"
            ]
          },
          "metadata": {},
          "execution_count": 160
        }
      ]
    },
    {
      "cell_type": "markdown",
      "source": [
        "Save Info"
      ],
      "metadata": {
        "id": "RhWJOfOpLDwZ"
      }
    },
    {
      "cell_type": "code",
      "source": [
        "np.savetxt('RL-maintenance-sim-PM-counts-per-episode', PM_counts_per_episode, fmt='%s', delimiter = ',')"
      ],
      "metadata": {
        "id": "E4kdTtHy9oKR"
      },
      "execution_count": null,
      "outputs": []
    },
    {
      "cell_type": "code",
      "source": [
        "np.savetxt('RL-maintenance-sim-CM-counts-per-episode', CM_counts_per_episode, fmt='%s', delimiter = ',')"
      ],
      "metadata": {
        "id": "FAWSPLQnBLsC"
      },
      "execution_count": null,
      "outputs": []
    },
    {
      "cell_type": "code",
      "source": [
        "np.savetxt('RL-maintenance-sim-reward-per-episode', reward_per_episode, fmt='%s', delimiter = ',')"
      ],
      "metadata": {
        "id": "aTBewP21BOHZ"
      },
      "execution_count": null,
      "outputs": []
    },
    {
      "cell_type": "code",
      "source": [
        "np.savetxt('RL-maintenance-sim-cost-per-episode', maintenance_cost_per_episode, fmt='%s', delimiter = ',')"
      ],
      "metadata": {
        "id": "HHvkvwllEv32"
      },
      "execution_count": null,
      "outputs": []
    },
    {
      "cell_type": "code",
      "source": [
        "np.savetxt('RL-maintenance-sim-cumresults', (average_maintenance_cost, average_CM_counts_per_machine, average_PM_counts_per_machine), fmt='%s', delimiter = ',' )"
      ],
      "metadata": {
        "id": "F09cqSF5-dX-"
      },
      "execution_count": null,
      "outputs": []
    },
    {
      "cell_type": "markdown",
      "source": [
        "Let's Plot some figures - total maintenance cost per episode for all three(3) policies"
      ],
      "metadata": {
        "id": "H4leqmFDMJ0p"
      }
    },
    {
      "cell_type": "code",
      "source": [
        "RL_cost_per_episode = -np.array(reward_per_episode)"
      ],
      "metadata": {
        "id": "BxEP3LnWPE3l"
      },
      "execution_count": null,
      "outputs": []
    },
    {
      "cell_type": "code",
      "source": [
        "periodic_cost_per_episode = -np.array(reward_per_episode)"
      ],
      "metadata": {
        "id": "LrkX8d0MPOqt"
      },
      "execution_count": null,
      "outputs": []
    },
    {
      "cell_type": "code",
      "source": [
        "corrective_cost_per_episode = -np.array(reward_per_episode)"
      ],
      "metadata": {
        "id": "fBF7aFbhPQ_B"
      },
      "execution_count": null,
      "outputs": []
    },
    {
      "cell_type": "code",
      "source": [
        "plt.plot(RL_cost_per_episode, label='RL policy')\n",
        "plt.plot(periodic_cost_per_episode, label = 'periodic')\n",
        "plt.plot(corrective_cost_per_episode, label = 'corrective')\n",
        "# plt.title(\"maintenance cost per episode\")\n",
        "# plt.xlabel('episode')\n",
        "# plt.ylabel('costs')\n",
        "plt.legend()\n",
        "plt.savefig('maintenancecosts-per-episode.png', dpi=200)"
      ],
      "metadata": {
        "colab": {
          "base_uri": "https://localhost:8080/",
          "height": 265
        },
        "id": "OCjruj6pLJsv",
        "outputId": "82bf5c93-79ac-415b-d0e2-2be281fca410"
      },
      "execution_count": null,
      "outputs": [
        {
          "output_type": "display_data",
          "data": {
            "text/plain": [
              "<Figure size 432x288 with 1 Axes>"
            ],
            "image/png": "[encoded data removed]"
          },
          "metadata": {
            "needs_background": "light"
          }
        }
      ]
    }
  ]
}