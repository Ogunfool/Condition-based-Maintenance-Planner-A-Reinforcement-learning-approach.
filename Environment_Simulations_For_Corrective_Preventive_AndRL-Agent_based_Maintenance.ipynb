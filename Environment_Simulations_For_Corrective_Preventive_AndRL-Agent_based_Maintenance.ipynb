{
  "nbformat": 4,
  "nbformat_minor": 0,
  "metadata": {
    "colab": {
      "provenance": [],
      "authorship_tag": "ABX9TyNWRa/tvzBJ1oBqp2K2/aFL",
      "include_colab_link": true
    },
    "kernelspec": {
      "name": "python3",
      "display_name": "Python 3"
    },
    "language_info": {
      "name": "python"
    }
  },
  "cells": [
    {
      "cell_type": "markdown",
      "metadata": {
        "id": "view-in-github",
        "colab_type": "text"
      },
      "source": [
        "<a href=\"https://colab.research.google.com/github/Ogunfool/Maintenance-Planning-with-reinforcement-learning/blob/main/Environment_Simulations_For_Corrective_Preventive_AndRL-Agent_based_Maintenance.ipynb\" target=\"_parent\"><img src=\"https://colab.research.google.com/assets/colab-badge.svg\" alt=\"Open In Colab\"/></a>"
      ]
    },
    {
      "cell_type": "code",
      "execution_count": null,
      "metadata": {
        "id": "6MjpxcuoAI-x"
      },
      "outputs": [],
      "source": []
    },
    {
      "cell_type": "markdown",
      "source": [
        "LET'S BEGIN SIMULATION....\n",
        "\n",
        "\n",
        "*   Seperate Simulation programs for were created for the three policies below - The major change to the programs are the policies used.\n",
        "*   A modified planner class helper function named standard_planner_sim() was created for the simulation. It collects info about the number of preventive and corrective maintenance carried out in each iteration.\n",
        "\n"
      ],
      "metadata": {
        "id": "lTUofqKsJ00-"
      }
    },
    {
      "cell_type": "code",
      "execution_count": null,
      "metadata": {
        "id": "XlVKszVXxI3A"
      },
      "outputs": [],
      "source": [
        "# AI-Based Maintenance Planner Environment for Simulation\n",
        "import numpy as np\n",
        "\n",
        "# \"NM\" = No Maintenance, \"PM\" = Preventive Maintenance\n",
        "ACTION_SPACE = ('NM', 'PM')\n",
        "\n",
        "class Planner: # Environment for 3 machines\n",
        "  def __init__(self, start=(0,0,0)):\n",
        "    self.s = start\n",
        "\n",
        "  def set(self, rewards, actions):\n",
        "    # rewards should be a dict of: (\"action\"): r (\"NM\"): reward\n",
        "    # actions should be a dict of: (int): A (1): list of actions for all 3 machines\n",
        "    self.rewards = rewards\n",
        "    self.actions = actions\n",
        "    # self.PM_counts = PM_counts\n",
        "\n",
        "  # Use to set next state to current state\n",
        "  def set_state(self, s):\n",
        "    self.s = tuple(s)\n",
        "\n",
        "  def current_state(self):\n",
        "    return (self.s)\n",
        "\n",
        "  def is_terminal(self):  #Takes tuple of states for all machines, Returns a boolean tuple\n",
        "    status = []\n",
        "    for t in range(3):\n",
        "      status.append(self.s[t] >= 5)\n",
        "      \n",
        "    return(status)\n",
        "\n",
        "  def is_terminal_single(self, s):  # Takes single machine state, Returns a boolean \n",
        "    return s >= 5\n",
        "\n",
        "  def reset(self):\n",
        "    # put agent back in start position\n",
        "    self.s = (0,0,0)\n",
        "    return (self.s)\n",
        "\n",
        "  def get_next_state(self,a):\n",
        "    # This answers: where would I end up if I perform action 'a' in state 's'?\n",
        "    s_next = [0,0,0]\n",
        "\n",
        "    for m in range(3):\n",
        "      # Check if state is terminal\n",
        "      # When in terminal state, the next state is independent of the action taken\n",
        "      if self.is_terminal_single(self.s[m]):\n",
        "        s_next[m] = 0\n",
        "        # Debugging tool\n",
        "        print(\"episode end:\", m, self.s[m], s_next[m], a[m])\n",
        "      else:\n",
        "        print(\"Not terminal state:\", m, self.s[m], s_next[m], a[m])\n",
        "      \n",
        "      if a[m] == \"NM\":\n",
        "        if (self.is_terminal_single(self.s[m]) == 0):\n",
        "          s_next[m] = np.random.choice([self.s[m] + 1, 0], p=[transition_probs[m,self.s[m],a[m]], 1-transition_probs[m,self.s[m],a[m]]])\n",
        "          # Debugging \n",
        "          print(\"Action is AM:\", m, self.s[m], s_next[m], a[m])\n",
        "\n",
        "      if a[m] == \"PM\":\n",
        "        s_next[m] = 0\n",
        "        # Debugging\n",
        "        print(\"action is PM:\", m, self.s[m], s_next[m], a[m])\n",
        "    \n",
        "    # Set next state as new state\n",
        "    self.set_state(s_next)\n",
        "    return s_next\n",
        "\n",
        "  def act(self, a):\n",
        "    a_array = np.copy(a)\n",
        "    reward = np.zeros((3,))\n",
        "    PM_counts = np.zeros((3,))\n",
        "    CM_counts = np.zeros((3,))\n",
        "\n",
        "    # this answers: where would I end up if I perform action 'a' in state 's'?\n",
        "    s_next = np.zeros((3,))\n",
        "    for m in range(3):\n",
        "      # Check if state is terminal\n",
        "      if self.is_terminal_single(self.s[m]):\n",
        "        s_next[m] = 0\n",
        "        a_array[m] = \"CM\"\n",
        "        CM_counts[m] = 1\n",
        "\n",
        "      if a[m] == \"NM\":\n",
        "        if (self.is_terminal_single(self.s[m]) == 0):\n",
        "          s_next[m] = np.random.choice([self.s[m] + 1, 0], p=[transition_probs[m,self.s[m],a[m]], 1-transition_probs[m,self.s[m],a[m]]])\n",
        "          if s_next[m] == 0:\n",
        "            a_array[m] = \"CM\"\n",
        "            CM_counts[m] = 1\n",
        "            \n",
        "\n",
        "      if a[m] == \"PM\":\n",
        "        s_next[m] = 0\n",
        "        PM_counts[m] = 1\n",
        "\n",
        "      # Collect reward for action taken on each machine\n",
        "      reward[m] = self.rewards[a_array[m]]\n",
        "\n",
        "       \n",
        "\n",
        "    # Set next state as new state\n",
        "    self.set_state(s_next)\n",
        "    return reward.sum(), PM_counts, CM_counts\n",
        "\n",
        "def standard_planner_sim():\n",
        "  # define a planner that describes the reward for arriving at each state\n",
        "  # and possible actions at each state\n",
        "  # s means start position\n",
        "  g = Planner()\n",
        "  rewards = {(\"NM\"): 0, (\"PM\"): -100, (\"CM\"): -500}\n",
        "  actions = {\n",
        "    (0): ('NM', 'NM', 'NM'),\n",
        "    (1): ('PM', 'PM', 'PM'),\n",
        "    (2): ('NM', 'NM', 'PM'),\n",
        "    (3): ('NM', 'PM', 'NM'),\n",
        "    (4): ('PM', 'NM', 'NM'),\n",
        "    (5): ('PM', 'PM', 'NM'),\n",
        "    (6): ('PM', 'NM', 'PM'),\n",
        "    (7): ('NM', 'PM', 'PM'),\n",
        "  }\n",
        "  g.set(rewards, actions)\n",
        "  return g"
      ]
    },
    {
      "cell_type": "code",
      "source": [
        "# Q-Learning Simulation / Agent Play\n",
        "if __name__ == '__main__':\n",
        "  # planner = standard_planner()\n",
        "  planner = standard_planner_sim()\n",
        "\n",
        "  # repeat until convergence\n",
        "  reward_per_episode = []\n",
        "  # Create lists to store PMs and CMs/episode: These will be a list of lists (3 machines/episode)\n",
        "  PM_counts_per_episode = []\n",
        "  CM_counts_per_episode = []\n",
        "\n",
        "  for it in range(1000):\n",
        "    if it % 200 == 0:\n",
        "      print(\"it:\", it)\n",
        "\n",
        "    # begin a new episode\n",
        "    s = planner.reset()\n",
        "    episode_reward = 0\n",
        "    episode_PM_counts = np.zeros((3,))\n",
        "    episode_CM_counts = np.zeros((3,))\n",
        "\n",
        "    for i in range(100):\n",
        "      # perform action and get next state + reward\n",
        "      a = policy[s]\n",
        "      # print(a)\n",
        "      r, PM_counts_per_timestep, CM_counts_per_timestep = planner.act(planner.actions[a])\n",
        "      s2 = planner.current_state()\n",
        "\n",
        "      # update reward\n",
        "      episode_reward += r\n",
        "\n",
        "      # From the envir returns a list of PMs/timestep, which we can update\n",
        "      # Update PM_counts\n",
        "      episode_PM_counts += PM_counts_per_timestep \n",
        "\n",
        "      episode_CM_counts += CM_counts_per_timestep \n",
        "\n",
        "      # next state becomes current state\n",
        "      s = s2\n",
        "    \n",
        "    # log the reward for this episode\n",
        "    reward_per_episode.append(episode_reward)\n",
        "\n",
        "\n",
        "    # log PM/s per episode\n",
        "    PM_counts_per_episode.append(episode_PM_counts)\n",
        "    CM_counts_per_episode.append(episode_CM_counts)\n"
      ],
      "metadata": {
        "colab": {
          "base_uri": "https://localhost:8080/"
        },
        "id": "BHV1p7aqxS-7",
        "outputId": "6202b1df-a113-473e-8365-5827f27277ca"
      },
      "execution_count": null,
      "outputs": [
        {
          "output_type": "stream",
          "name": "stdout",
          "text": [
            "it: 0\n",
            "it: 200\n",
            "it: 400\n",
            "it: 600\n",
            "it: 800\n"
          ]
        }
      ]
    },
    {
      "cell_type": "code",
      "source": [
        "# Periodic Maintenance Simulation\n",
        "# Policy function\n",
        "def periodic_policy(i):\n",
        "  if (((i+1) % 3 == 0) & (i != 0)):\n",
        "    policy = 1\n",
        "  else:\n",
        "    policy = 0\n",
        "  return policy\n",
        "\n",
        "if __name__ == '__main__':\n",
        "  # planner = standard_planner()\n",
        "  planner = standard_planner_sim()\n",
        "\n",
        "  # repeat until convergence\n",
        "  reward_per_episode = []\n",
        "  # Create lists to store PMs and CMs/episode: These will be a list of lists (3 machines/episode)\n",
        "  PM_counts_per_episode = []\n",
        "  CM_counts_per_episode = []\n",
        "\n",
        "  for it in range(1000):\n",
        "    if it % 200 == 0:\n",
        "      print(\"it:\", it)\n",
        "\n",
        "    # begin a new episode\n",
        "    s = planner.reset()\n",
        "    episode_reward = 0\n",
        "    episode_PM_counts = np.zeros((3,))\n",
        "    episode_CM_counts = np.zeros((3,))\n",
        "\n",
        "    for i in range(100):\n",
        "      # perform action and get next state + reward\n",
        "      a = periodic_policy(i)\n",
        "      # print(a)\n",
        "      r, PM_counts_per_timestep, CM_counts_per_timestep = planner.act(planner.actions[a])\n",
        "      s2 = planner.current_state()\n",
        "\n",
        "      # update reward\n",
        "      episode_reward += r\n",
        "\n",
        "      # From the envir returns a list of PMs/timestep, which we can update\n",
        "      # Update PM_counts\n",
        "      episode_PM_counts += PM_counts_per_timestep \n",
        "\n",
        "      episode_CM_counts += CM_counts_per_timestep \n",
        "\n",
        "      # next state becomes current state\n",
        "      s = s2\n",
        "    \n",
        "    # log the reward for this episode\n",
        "    reward_per_episode.append(episode_reward)\n",
        "\n",
        "\n",
        "    # log PM/s per episode\n",
        "    PM_counts_per_episode.append(episode_PM_counts)\n",
        "    CM_counts_per_episode.append(episode_CM_counts)\n"
      ],
      "metadata": {
        "id": "Ob-kHjiUtJ8j",
        "colab": {
          "base_uri": "https://localhost:8080/"
        },
        "outputId": "728accf1-e441-4fb4-cdcc-d144369a506d"
      },
      "execution_count": null,
      "outputs": [
        {
          "output_type": "stream",
          "name": "stdout",
          "text": [
            "it: 0\n",
            "it: 200\n",
            "it: 400\n",
            "it: 600\n",
            "it: 800\n"
          ]
        }
      ]
    },
    {
      "cell_type": "code",
      "source": [
        "# Corrective Maintenance Policy\n",
        "if __name__ == '__main__':\n",
        "  # planner = standard_planner()\n",
        "  planner = standard_planner_sim()\n",
        "\n",
        "  # repeat until convergence\n",
        "  reward_per_episode = []\n",
        "  # Create lists to store PMs and CMs/episode: These will be a list of lists (3 machines/episode)\n",
        "  PM_counts_per_episode = []\n",
        "  CM_counts_per_episode = []\n",
        "\n",
        "  for it in range(1000):\n",
        "    if it % 200 == 0:\n",
        "      print(\"it:\", it)\n",
        "\n",
        "    # begin a new episode\n",
        "    s = planner.reset()\n",
        "    episode_reward = 0\n",
        "    episode_PM_counts = np.zeros((3,))\n",
        "    episode_CM_counts = np.zeros((3,))\n",
        "\n",
        "    for i in range(100):\n",
        "      # perform action and get next state + reward\n",
        "      a = 0\n",
        "      r, PM_counts_per_timestep, CM_counts_per_timestep = planner.act(planner.actions[a])\n",
        "      s2 = planner.current_state()\n",
        "\n",
        "      # update reward\n",
        "      episode_reward += r\n",
        "\n",
        "      # From the envir returns a list of PMs/timestep, which we can update\n",
        "      # Update PM_counts\n",
        "      episode_PM_counts += PM_counts_per_timestep \n",
        "\n",
        "      episode_CM_counts += CM_counts_per_timestep \n",
        "\n",
        "      # next state becomes current state\n",
        "      s = s2\n",
        "    \n",
        "    # log the reward for this episode\n",
        "    reward_per_episode.append(episode_reward)\n",
        "\n",
        "\n",
        "    # log PM/s per episode\n",
        "    PM_counts_per_episode.append(episode_PM_counts)\n",
        "    CM_counts_per_episode.append(episode_CM_counts)\n"
      ],
      "metadata": {
        "id": "KFUy21YkwvYo",
        "colab": {
          "base_uri": "https://localhost:8080/"
        },
        "outputId": "3fbcf24e-f0f7-4e93-eb1f-45e4c8603001"
      },
      "execution_count": null,
      "outputs": [
        {
          "output_type": "stream",
          "name": "stdout",
          "text": [
            "it: 0\n",
            "it: 200\n",
            "it: 400\n",
            "it: 600\n",
            "it: 800\n"
          ]
        }
      ]
    },
    {
      "cell_type": "markdown",
      "source": [
        "Collect relevant Info from simulation"
      ],
      "metadata": {
        "id": "f-wmtaT7K_Vq"
      }
    },
    {
      "cell_type": "code",
      "source": [
        "maintenance_cost_per_episode = -np.array(reward_per_episode)"
      ],
      "metadata": {
        "id": "9BBOn-l-D3Oy"
      },
      "execution_count": null,
      "outputs": []
    },
    {
      "cell_type": "code",
      "source": [
        "maintenance_cost_per_episode"
      ],
      "metadata": {
        "id": "e6AUhJIzGi-3"
      },
      "execution_count": null,
      "outputs": []
    },
    {
      "cell_type": "code",
      "source": [
        "reward_per_episode = np.array(reward_per_episode)"
      ],
      "metadata": {
        "id": "280wBiobxaXn"
      },
      "execution_count": null,
      "outputs": []
    },
    {
      "cell_type": "code",
      "source": [
        "reward_per_episode"
      ],
      "metadata": {
        "id": "ZbNSjxvdGzd6"
      },
      "execution_count": null,
      "outputs": []
    },
    {
      "cell_type": "code",
      "source": [
        "PM_counts_per_episode = np.array(PM_counts_per_episode)"
      ],
      "metadata": {
        "id": "gdCRPamVG-0F"
      },
      "execution_count": null,
      "outputs": []
    },
    {
      "cell_type": "code",
      "source": [
        "PM_counts_per_episode"
      ],
      "metadata": {
        "id": "FTtZMKxdHB3P"
      },
      "execution_count": null,
      "outputs": []
    },
    {
      "cell_type": "code",
      "source": [
        "CM_counts_per_episode = np.array(CM_counts_per_episode)"
      ],
      "metadata": {
        "id": "TWwyNIDpHJqb"
      },
      "execution_count": null,
      "outputs": []
    },
    {
      "cell_type": "code",
      "source": [
        "CM_counts_per_episode"
      ],
      "metadata": {
        "id": "kA8yWQswHNJt"
      },
      "execution_count": null,
      "outputs": []
    },
    {
      "cell_type": "code",
      "source": [
        "average_maintenance_cost = np.mean(maintenance_cost_per_episode)"
      ],
      "metadata": {
        "id": "ljtBuNNm792q"
      },
      "execution_count": null,
      "outputs": []
    },
    {
      "cell_type": "code",
      "source": [
        "average_maintenance_cost"
      ],
      "metadata": {
        "id": "9dJZ8_tq8MSo"
      },
      "execution_count": null,
      "outputs": []
    },
    {
      "cell_type": "code",
      "source": [
        "average_CM_counts_per_machine = np.mean(np.array(CM_counts_per_episode), axis=0)"
      ],
      "metadata": {
        "id": "GetTOGXm8fR9"
      },
      "execution_count": null,
      "outputs": []
    },
    {
      "cell_type": "code",
      "source": [
        "average_CM_counts_per_machine"
      ],
      "metadata": {
        "colab": {
          "base_uri": "https://localhost:8080/"
        },
        "id": "o-iGCMF88ttL",
        "outputId": "74cca169-2102-444f-c723-2aa8cf3fef6f"
      },
      "execution_count": null,
      "outputs": [
        {
          "output_type": "execute_result",
          "data": {
            "text/plain": [
              "array([0., 0., 0.])"
            ]
          },
          "metadata": {},
          "execution_count": 159
        }
      ]
    },
    {
      "cell_type": "code",
      "source": [
        "average_PM_counts_per_machine = np.mean(np.array(PM_counts_per_episode), axis=0)\n",
        "average_PM_counts_per_machine"
      ],
      "metadata": {
        "colab": {
          "base_uri": "https://localhost:8080/"
        },
        "id": "M0g9DJhn-yYx",
        "outputId": "c146c37a-27c1-4a01-81e5-27250b811e1e"
      },
      "execution_count": null,
      "outputs": [
        {
          "output_type": "execute_result",
          "data": {
            "text/plain": [
              "array([50., 50., 50.])"
            ]
          },
          "metadata": {},
          "execution_count": 160
        }
      ]
    },
    {
      "cell_type": "markdown",
      "source": [
        "Save Info"
      ],
      "metadata": {
        "id": "RhWJOfOpLDwZ"
      }
    },
    {
      "cell_type": "code",
      "source": [
        "np.savetxt('RL-maintenance-sim-PM-counts-per-episode', PM_counts_per_episode, fmt='%s', delimiter = ',')"
      ],
      "metadata": {
        "id": "E4kdTtHy9oKR"
      },
      "execution_count": null,
      "outputs": []
    },
    {
      "cell_type": "code",
      "source": [
        "np.savetxt('RL-maintenance-sim-CM-counts-per-episode', CM_counts_per_episode, fmt='%s', delimiter = ',')"
      ],
      "metadata": {
        "id": "FAWSPLQnBLsC"
      },
      "execution_count": null,
      "outputs": []
    },
    {
      "cell_type": "code",
      "source": [
        "np.savetxt('RL-maintenance-sim-reward-per-episode', reward_per_episode, fmt='%s', delimiter = ',')"
      ],
      "metadata": {
        "id": "aTBewP21BOHZ"
      },
      "execution_count": null,
      "outputs": []
    },
    {
      "cell_type": "code",
      "source": [
        "np.savetxt('RL-maintenance-sim-cost-per-episode', maintenance_cost_per_episode, fmt='%s', delimiter = ',')"
      ],
      "metadata": {
        "id": "HHvkvwllEv32"
      },
      "execution_count": null,
      "outputs": []
    },
    {
      "cell_type": "code",
      "source": [
        "np.savetxt('RL-maintenance-sim-cumresults', (average_maintenance_cost, average_CM_counts_per_machine, average_PM_counts_per_machine), fmt='%s', delimiter = ',' )"
      ],
      "metadata": {
        "id": "F09cqSF5-dX-"
      },
      "execution_count": null,
      "outputs": []
    },
    {
      "cell_type": "markdown",
      "source": [
        "Let's Plot some figures - total maintenance cost per episode for all three(3) policies"
      ],
      "metadata": {
        "id": "H4leqmFDMJ0p"
      }
    },
    {
      "cell_type": "code",
      "source": [
        "RL_cost_per_episode = -np.array(reward_per_episode)"
      ],
      "metadata": {
        "id": "BxEP3LnWPE3l"
      },
      "execution_count": null,
      "outputs": []
    },
    {
      "cell_type": "code",
      "source": [
        "periodic_cost_per_episode = -np.array(reward_per_episode)"
      ],
      "metadata": {
        "id": "LrkX8d0MPOqt"
      },
      "execution_count": null,
      "outputs": []
    },
    {
      "cell_type": "code",
      "source": [
        "corrective_cost_per_episode = -np.array(reward_per_episode)"
      ],
      "metadata": {
        "id": "fBF7aFbhPQ_B"
      },
      "execution_count": null,
      "outputs": []
    },
    {
      "cell_type": "code",
      "source": [
        "plt.plot(RL_cost_per_episode, label='RL policy')\n",
        "plt.plot(periodic_cost_per_episode, label = 'periodic')\n",
        "plt.plot(corrective_cost_per_episode, label = 'corrective')\n",
        "# plt.title(\"maintenance cost per episode\")\n",
        "# plt.xlabel('episode')\n",
        "# plt.ylabel('costs')\n",
        "plt.legend()\n",
        "plt.savefig('maintenancecosts-per-episode.png', dpi=200)"
      ],
      "metadata": {
        "colab": {
          "base_uri": "https://localhost:8080/",
          "height": 265
        },
        "id": "OCjruj6pLJsv",
        "outputId": "82bf5c93-79ac-415b-d0e2-2be281fca410"
      },
      "execution_count": null,
      "outputs": [
        {
          "output_type": "display_data",
          "data": {
            "text/plain": [
              "<Figure size 432x288 with 1 Axes>"
            ],
            "image/png": "[encoded data removed]"
          },
          "metadata": {
            "needs_background": "light"
          }
        }
      ]
    }
  ]
}